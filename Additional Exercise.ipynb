{
 "cells": [
  {
   "cell_type": "markdown",
   "metadata": {},
   "source": [
    "## Chapter 2 - Assignment 3\n"
   ]
  },
  {
   "cell_type": "markdown",
   "metadata": {},
   "source": [
    "Q1. Define a lambda function: echo_name"
   ]
  },
  {
   "cell_type": "code",
   "execution_count": 1,
   "metadata": {},
   "outputs": [],
   "source": [
    "echo_name = lambda x, y : x * y"
   ]
  },
  {
   "cell_type": "code",
   "execution_count": 3,
   "metadata": {},
   "outputs": [
    {
     "name": "stdout",
     "output_type": "stream",
     "text": [
      "acadgild acadgild acadgild acadgild acadgild \n"
     ]
    }
   ],
   "source": [
    "print(echo_name('acadgild ',5))"
   ]
  },
  {
   "cell_type": "markdown",
   "metadata": {},
   "source": [
    "Q2. Convert temperature in Celsius to Fahrenheit using map() and lambda functions"
   ]
  },
  {
   "cell_type": "code",
   "execution_count": 4,
   "metadata": {},
   "outputs": [],
   "source": [
    "celsius = [49.2, 26.5, 47.3, 47.8]\n",
    "Fahrenheit = map((lambda x: (float(9)/5)*x + 32), celsius)"
   ]
  },
  {
   "cell_type": "code",
   "execution_count": 5,
   "metadata": {},
   "outputs": [
    {
     "name": "stdout",
     "output_type": "stream",
     "text": [
      "[120.56, 79.7, 117.14, 118.03999999999999]\n"
     ]
    }
   ],
   "source": [
    "print (list(Fahrenheit))"
   ]
  },
  {
   "cell_type": "markdown",
   "metadata": {},
   "source": [
    "Q3. The function filter(function, list) filters out all the elements of a list, for which the function function returns True.\n",
    "The function filter(f,l) needs a function f as its first argument. f returns a Boolean value, i.e. either True or False. This function will be applied to every element of the list l. Only if f returns True will the element of the list be included in the result list Q. print the letters that are vowels using filter and lambda functions"
   ]
  },
  {
   "cell_type": "code",
   "execution_count": 4,
   "metadata": {},
   "outputs": [
    {
     "name": "stdout",
     "output_type": "stream",
     "text": [
      "Print only vowels in a given string 'Welcome to AcadGild' using custom filter function['e', 'o', 'e', 'o', 'A', 'a', 'i']\n",
      "Print only vowels in a given string 'Welcome to AcadGild' using custom Lamda function['e', 'o', 'e', 'o', 'A', 'a', 'i']\n"
     ]
    }
   ],
   "source": [
    "vowels = \"aeiouAEIOU\"\n",
    "instring=\"Welcome to AcadGild\"\n",
    "# Filter function returns Boolean value True or false- Custom filter function\n",
    "\n",
    "def myfilter(func, lst):\n",
    "\n",
    " # Initialize empty list\n",
    " result = []\n",
    " # iterate over sequence of items in sequence and apply filter function\n",
    " for char in lst:\n",
    "    if func(char):\n",
    "        result.append(char)\n",
    "\n",
    " # return funal output\n",
    " return result\n",
    "\n",
    "def isVowel(x):\n",
    "    if (x in vowels): \n",
    "        return True \n",
    "    else: \n",
    "        return False\n",
    "\n",
    "print (\"Print only vowels in a given string 'Welcome to AcadGild' using custom filter function\"  + str(myfilter(isVowel, \"Welcome to AcadGild\")))\n",
    "print(\"Print only vowels in a given string 'Welcome to AcadGild' using custom Lamda function\" + str(list(filter(lambda x:x in \"aeiouAEIOU\", instring))))"
   ]
  },
  {
   "cell_type": "markdown",
   "metadata": {},
   "source": [
    "Q4. Use generator expression to print out only alphabets from the following string\n",
    "Sample:\n",
    "string = \"123@Welc34ometo12@ac#adGild\""
   ]
  },
  {
   "cell_type": "code",
   "execution_count": 11,
   "metadata": {},
   "outputs": [
    {
     "name": "stdout",
     "output_type": "stream",
     "text": [
      "WelcometoacadGild\n"
     ]
    }
   ],
   "source": [
    "string =\"123@Welc34ometo12@ac#adGild\"\n",
    "str =''\n",
    "for char in string:\n",
    "    if char in '0123456789':\n",
    "        continue\n",
    "    elif char in'@#':\n",
    "        continue\n",
    "    else:\n",
    "        str = str+char\n",
    "print(str)"
   ]
  },
  {
   "cell_type": "markdown",
   "metadata": {},
   "source": [
    "Q5. Implement a function longestWord() that takes a list of words and returns the longest one.\n",
    "Sample Word List\n",
    "\n",
    "word= [\"January\",\"Feburary\",\"March\",\"April\",\"May\",\"June\",\"July\"]"
   ]
  },
  {
   "cell_type": "code",
   "execution_count": 13,
   "metadata": {},
   "outputs": [
    {
     "name": "stdout",
     "output_type": "stream",
     "text": [
      "Feburary\n"
     ]
    }
   ],
   "source": [
    "lst = [\"January\",\"Feburary\",\"March\",\"April\",\"May\",\"June\",\"July\"]\n",
    "word = ''\n",
    "for item in lst:\n",
    "    if len(item)>len(word):\n",
    "        word = item\n",
    "print(word)\n",
    "    "
   ]
  }
 ],
 "metadata": {
  "kernelspec": {
   "display_name": "Python 3",
   "language": "python",
   "name": "python3"
  },
  "language_info": {
   "codemirror_mode": {
    "name": "ipython",
    "version": 3
   },
   "file_extension": ".py",
   "mimetype": "text/x-python",
   "name": "python",
   "nbconvert_exporter": "python",
   "pygments_lexer": "ipython3",
   "version": "3.7.1"
  }
 },
 "nbformat": 4,
 "nbformat_minor": 2
}
